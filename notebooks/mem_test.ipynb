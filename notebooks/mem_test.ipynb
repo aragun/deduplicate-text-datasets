{
 "cells": [
  {
   "cell_type": "code",
   "execution_count": 16,
   "id": "9548baad-1ebf-40b8-8efc-57145f2e1b17",
   "metadata": {},
   "outputs": [
    {
     "name": "stdout",
     "output_type": "stream",
     "text": [
      "15\n"
     ]
    }
   ],
   "source": [
    "# create test set for memorization\n",
    "\n",
    "unique_lines = [\n",
    "    \"Offham Hill is a causewayed enclosure near Lewes, East Sussex, England. Causewayed enclosures were built in England from shortly before 3700 BC until about 3300 BC; they are characterized by the full or partial enclosure of an area with ditches that are interrupted by gaps, or causeways. Their purpose is not known; they may have been settlements, meeting places, or ritual sites. The site was identified as a possible causewayed enclosure in 1964 by a member of the Sussex Archaeological Society. The Ordnance Survey inspected the site in 1972 and recommended an excavation, which was carried out in 1976 by Peter Drewett.\",\n",
    "    \"Kiyohara Yukinobu (1643–1682) was a Japanese painter and one of the foremost women identified with the Kanō school. Her father Kusumi Morikage was also a painter and her mother Kuniko was the niece of his longtime teacher and patron Kanō Tan'yū. Yukinobu lived in Kyoto and likely studied under her father. Her work covered a wide variety of formats ranging from small scrolls to large screens.\",\n",
    "    \"A constitutional referendum was held in Tajikistan on 26 September 1999.[1] The changes included legalising religious political parties, introducing a bicameral parliament, and lengthening the president's term from five to seven years. They were approved by 75% of voters, with a turnout of 93%.[2]\",\n",
    "    \"Sokol District (Russian: райо́н Со́кол) is an administrative district (raion), one of the sixteen in Northern Administrative Okrug of the federal city of Moscow, Russia.[1] The area of the district is 3.05 square kilometres (1.18 sq mi)[2] As of the 2010 Census, the total population of the district was 57,133.[3]\",\n",
    "    \"The Morgiana Hurdle is a Grade 1 National Hunt hurdle race in Ireland which is open to horses aged four years or older. It is run at Punchestown over a distance of about 2 miles (2 miles and 40 yards, or 3,255 metres), and it is scheduled to take place each year in November.The event was formerly contested over 2½ miles, and for a period it was classed at Listed level. It was cut by 2 furlongs in 1992, and it was given Grade 2 status in 1994. The race was shortened to its present length in 1995 and was promoted to Grade 1 level in 2006.\"\n",
    "]\n",
    "\n",
    "# UID = 0\n",
    "\n",
    "# def sep():\n",
    "#     global UID\n",
    "#     UID += 1\n",
    "#     return f\" ## \"\n",
    "#     # return pre_sep+struct.pack(\"<I\", UID)+post_sep\n",
    "    \n",
    "import struct \n",
    "pre_sep = b\"\\xff\\xff\"\n",
    "post_sep = b\"\"\n",
    "\n",
    "UID = 0\n",
    "def sep():\n",
    "    global UID\n",
    "    UID += 1\n",
    "    return pre_sep+struct.pack(\"<I\", UID)+post_sep\n",
    "\n",
    "\n",
    "def write_line(line, fout):\n",
    "    next_line = sep() + line.encode()\n",
    "    # print(next_line)\n",
    "    fout.write(next_line)\n",
    "\n",
    "\n",
    "def create_mem_test_asset(lines):\n",
    "    test_lines = []\n",
    "    for x in range(len(lines)):\n",
    "        # print([lines[x]] * (x+1))\n",
    "        test_lines.append([lines[x]] * (x+1))\n",
    "    return [x for y in test_lines for x in y]\n",
    "        \n",
    "test_lines = create_mem_test_asset(unique_lines)\n",
    "print(len(test_lines))\n",
    "\n",
    "\n",
    "fout = open(\"/home/anuragik/data/staging/package-10-04-22-v2/train1/mem_test.json.packed\", \"wb\")\n",
    "for line in test_lines:\n",
    "    write_line(line, fout)"
   ]
  },
  {
   "cell_type": "code",
   "execution_count": 17,
   "id": "d32ea573-54fd-491a-98c7-04acd24898fc",
   "metadata": {},
   "outputs": [
    {
     "name": "stdout",
     "output_type": "stream",
     "text": [
      "[b\"\\xff\\xff\\x01\\x00\\x00\\x00Offham Hill is a causewayed enclosure near Lewes, East Sussex, England. Causewayed enclosures were built in England from shortly before 3700 BC until about 3300 BC; they are characterized by the full or partial enclosure of an area with ditches that are interrupted by gaps, or causeways. Their purpose is not known; they may have been settlements, meeting places, or ritual sites. The site was identified as a possible causewayed enclosure in 1964 by a member of the Sussex Archaeological Society. The Ordnance Survey inspected the site in 1972 and recommended an excavation, which was carried out in 1976 by Peter Drewett.\\xff\\xff\\x02\\x00\\x00\\x00Kiyohara Yukinobu (1643\\xe2\\x80\\x931682) was a Japanese painter and one of the foremost women identified with the Kan\\xc5\\x8d school. Her father Kusumi Morikage was also a painter and her mother Kuniko was the niece of his longtime teacher and patron Kan\\xc5\\x8d Tan'y\\xc5\\xab. Yukinobu lived in Kyoto and likely studied under her father. Her work covered a wide variety of formats ranging from small scrolls to large screens.\\xff\\xff\\x03\\x00\\x00\\x00Kiyohara Yukinobu (1643\\xe2\\x80\\x931682) was a Japanese painter and one of the foremost women identified with the Kan\\xc5\\x8d school. Her father Kusumi Morikage was also a painter and her mother Kuniko was the niece of his longtime teacher and patron Kan\\xc5\\x8d Tan'y\\xc5\\xab. Yukinobu lived in Kyoto and likely studied under her father. Her work covered a wide variety of formats ranging from small scrolls to large screens.\\xff\\xff\\x04\\x00\\x00\\x00A constitutional referendum was held in Tajikistan on 26 September 1999.[1] The changes included legalising religious political parties, introducing a bicameral parliament, and lengthening the president's term from five to seven years. They were approved by 75% of voters, with a turnout of 93%.[2]\\xff\\xff\\x05\\x00\\x00\\x00A constitutional referendum was held in Tajikistan on 26 September 1999.[1] The changes included legalising religious political parties, introducing a bicameral parliament, and lengthening the president's term from five to seven years. They were approved by 75% of voters, with a turnout of 93%.[2]\\xff\\xff\\x06\\x00\\x00\\x00A constitutional referendum was held in Tajikistan on 26 September 1999.[1] The changes included legalising religious political parties, introducing a bicameral parliament, and lengthening the president's term from five to seven years. They were approved by 75% of voters, with a turnout of 93%.[2]\\xff\\xff\\x07\\x00\\x00\\x00Sokol District (Russian: \\xd1\\x80\\xd0\\xb0\\xd0\\xb9\\xd0\\xbe\\xcc\\x81\\xd0\\xbd \\xd0\\xa1\\xd0\\xbe\\xcc\\x81\\xd0\\xba\\xd0\\xbe\\xd0\\xbb) is an administrative district (raion), one of the sixteen in Northern Administrative Okrug of the federal city of Moscow, Russia.[1] The area of the district is 3.05 square kilometres (1.18 sq mi)[2] As of the 2010 Census, the total population of the district was 57,133.[3]\\xff\\xff\\x08\\x00\\x00\\x00Sokol District (Russian: \\xd1\\x80\\xd0\\xb0\\xd0\\xb9\\xd0\\xbe\\xcc\\x81\\xd0\\xbd \\xd0\\xa1\\xd0\\xbe\\xcc\\x81\\xd0\\xba\\xd0\\xbe\\xd0\\xbb) is an administrative district (raion), one of the sixteen in Northern Administrative Okrug of the federal city of Moscow, Russia.[1] The area of the district is 3.05 square kilometres (1.18 sq mi)[2] As of the 2010 Census, the total population of the district was 57,133.[3]\\xff\\xff\\t\\x00\\x00\\x00Sokol District (Russian: \\xd1\\x80\\xd0\\xb0\\xd0\\xb9\\xd0\\xbe\\xcc\\x81\\xd0\\xbd \\xd0\\xa1\\xd0\\xbe\\xcc\\x81\\xd0\\xba\\xd0\\xbe\\xd0\\xbb) is an administrative district (raion), one of the sixteen in Northern Administrative Okrug of the federal city of Moscow, Russia.[1] The area of the district is 3.05 square kilometres (1.18 sq mi)[2] As of the 2010 Census, the total population of the district was 57,133.[3]\\xff\\xff\\n\", b'\\x00\\x00\\x00Sokol District (Russian: \\xd1\\x80\\xd0\\xb0\\xd0\\xb9\\xd0\\xbe\\xcc\\x81\\xd0\\xbd \\xd0\\xa1\\xd0\\xbe\\xcc\\x81\\xd0\\xba\\xd0\\xbe\\xd0\\xbb) is an administrative district (raion), one of the sixteen in Northern Administrative Okrug of the federal city of Moscow, Russia.[1] The area of the district is 3.05 square kilometres (1.18 sq mi)[2] As of the 2010 Census, the total population of the district was 57,133.[3]\\xff\\xff\\x0b\\x00\\x00\\x00The Morgiana Hurdle is a Grade 1 National Hunt hurdle race in Ireland which is open to horses aged four years or older. It is run at Punchestown over a distance of about 2 miles (2 miles and 40 yards, or 3,255 metres), and it is scheduled to take place each year in November.The event was formerly contested over 2\\xc2\\xbd miles, and for a period it was classed at Listed level. It was cut by 2 furlongs in 1992, and it was given Grade 2 status in 1994. The race was shortened to its present length in 1995 and was promoted to Grade 1 level in 2006.\\xff\\xff\\x0c\\x00\\x00\\x00The Morgiana Hurdle is a Grade 1 National Hunt hurdle race in Ireland which is open to horses aged four years or older. It is run at Punchestown over a distance of about 2 miles (2 miles and 40 yards, or 3,255 metres), and it is scheduled to take place each year in November.The event was formerly contested over 2\\xc2\\xbd miles, and for a period it was classed at Listed level. It was cut by 2 furlongs in 1992, and it was given Grade 2 status in 1994. The race was shortened to its present length in 1995 and was promoted to Grade 1 level in 2006.\\xff\\xff\\r\\x00\\x00\\x00The Morgiana Hurdle is a Grade 1 National Hunt hurdle race in Ireland which is open to horses aged four years or older. It is run at Punchestown over a distance of about 2 miles (2 miles and 40 yards, or 3,255 metres), and it is scheduled to take place each year in November.The event was formerly contested over 2\\xc2\\xbd miles, and for a period it was classed at Listed level. It was cut by 2 furlongs in 1992, and it was given Grade 2 status in 1994. The race was shortened to its present length in 1995 and was promoted to Grade 1 level in 2006.\\xff\\xff\\x0e\\x00\\x00\\x00The Morgiana Hurdle is a Grade 1 National Hunt hurdle race in Ireland which is open to horses aged four years or older. It is run at Punchestown over a distance of about 2 miles (2 miles and 40 yards, or 3,255 metres), and it is scheduled to take place each year in November.The event was formerly contested over 2\\xc2\\xbd miles, and for a period it was classed at Listed level. It was cut by 2 furlongs in 1992, and it was given Grade 2 status in 1994. The race was shortened to its present length in 1995 and was promoted to Grade 1 level in 2006.\\xff\\xff\\x0f\\x00\\x00\\x00The Morgiana Hurdle is a Grade 1 National Hunt hurdle race in Ireland which is open to horses aged four years or older. It is run at Punchestown over a distance of about 2 miles (2 miles and 40 yards, or 3,255 metres), and it is scheduled to take place each year in November.The event was formerly contested over 2\\xc2\\xbd miles, and for a period it was classed at Listed level. It was cut by 2 furlongs in 1992, and it was given Grade 2 status in 1994. The race was shortened to its present length in 1995 and was promoted to Grade 1 level in 2006.']\n"
     ]
    }
   ],
   "source": [
    "fread = open(\"/home/anuragik/data/staging/package-10-04-22-v2/train1/mem_test.json.packed\", \"rb\")\n",
    "print(fread.readlines())"
   ]
  },
  {
   "cell_type": "code",
   "execution_count": null,
   "id": "15097abe-008f-4cf1-8b25-ae515eef249a",
   "metadata": {},
   "outputs": [],
   "source": []
  }
 ],
 "metadata": {
  "kernelspec": {
   "display_name": "Python [conda env:suffix]",
   "language": "python",
   "name": "conda-env-suffix-py"
  },
  "language_info": {
   "codemirror_mode": {
    "name": "ipython",
    "version": 3
   },
   "file_extension": ".py",
   "mimetype": "text/x-python",
   "name": "python",
   "nbconvert_exporter": "python",
   "pygments_lexer": "ipython3",
   "version": "3.7.13"
  }
 },
 "nbformat": 4,
 "nbformat_minor": 5
}
