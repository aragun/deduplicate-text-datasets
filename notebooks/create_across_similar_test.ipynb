{
 "cells": [
  {
   "cell_type": "code",
   "execution_count": 8,
   "id": "aed8f70b-d20b-4447-85de-211b24345186",
   "metadata": {},
   "outputs": [
    {
     "name": "stdout",
     "output_type": "stream",
     "text": [
      "removing val.json\n",
      "INFO:s3_accessor:Uploading val.json to s3://anuragik-dev/across_similar_test/val/val.json\n",
      "removing train1.json\n",
      "INFO:s3_accessor:Uploading train1.json to s3://anuragik-dev/across_similar_test/train/train1.json\n",
      "removing train2.json\n",
      "INFO:s3_accessor:Uploading train2.json to s3://anuragik-dev/across_similar_test/train/train2.json\n"
     ]
    }
   ],
   "source": [
    "\"\"\"\n",
    "create a test for create_memorization_sample_across.py\n",
    "\n",
    "Need to \n",
    "1. upload json files (in the format of the pre-training data) to 2 s3 buckets for args.train_files and args.val_files\n",
    "2. have multiple train and val files so we can test aggregation\n",
    "3. have samples in the val files that meet and don't meet the freqeuncy treshold overall, length threshold\n",
    "\n",
    "\"\"\"\n",
    "\n",
    "import json\n",
    "import os\n",
    "import s3_accessor\n",
    "\n",
    "content_column = \"text\"\n",
    "filter_columns = [\"identity_attack\", \"insult\",\"obscene\",\"severe_toxicity\",\"sexual_explicit\",\"threat\",\"toxicity\"]\n",
    "\n",
    "def package_and_upload(text_data, file_name, upload_bucket):\n",
    "    if os.path.isfile(file_name):\n",
    "        print(f'removing {file_name}')\n",
    "        os.remove(file_name)\n",
    "    with open(file_name, 'a') as f:\n",
    "        for text in text_data:\n",
    "            json_v = {'text': text, 'toxicity': '0'}\n",
    "            f.write(json.dumps(json_v))\n",
    "            f.write('\\n')\n",
    "            \n",
    "    s3_accessor.upload(f\"{upload_bucket}{file_name}\", file_name)\n",
    "            \n",
    "\n",
    "unique_lines = [\n",
    "    \"Offham Hill is a causewayed enclosure near Lewes, East Sussex, England. Causewayed enclosures were built in England from shortly before 3700 BC until about 3300 BC; they are characterized by the full or partial enclosure of an area with ditches that are interrupted by gaps, or causeways. Their purpose is not known; they may have been settlements, meeting places, or ritual sites. The site was identified as a possible causewayed enclosure in 1964 by a member of the Sussex Archaeological Society. The Ordnance Survey inspected the site in 1972 and recommended an excavation, which was carried out in 1976 by Peter Drewett.\",\n",
    "    \"Kiyohara Yukinobu (1643–1682) was a Japanese painter and one of the foremost women identified with the Kanō school. Her father Kusumi Morikage was also a painter and her mother Kuniko was the niece of his longtime teacher and patron Kanō Tan'yū. Yukinobu lived in Kyoto and likely studied under her father. Her work covered a wide variety of formats ranging from small scrolls to large screens.\",\n",
    "    \"A constitutional referendum was held in Tajikistan on 26 September 1999.[1] The changes included legalising religious political parties, introducing a bicameral parliament, and lengthening the president's term from five to seven years. They were approved by 75% of voters, with a turnout of 93%.[2]\",\n",
    "    \"Sokol District (Russian: райо́н Со́кол) is an administrative district (raion), one of the sixteen in Northern Administrative Okrug of the federal city of Moscow, Russia.[1] The area of the district is 3.05 square kilometres (1.18 sq mi)[2] As of the 2010 Census, the total population of the district was 57,133.[3]\",\n",
    "    \"The Morgiana Hurdle is a Grade 1 National Hunt hurdle race in Ireland which is open to horses aged four years or older. It is run at Punchestown over a distance of about 2 miles (2 miles and 40 yards, or 3,255 metres), and it is scheduled to take place each year in November.The event was formerly contested over 2½ miles, and for a period it was classed at Listed level. It was cut by 2 furlongs in 1992, and it was given Grade 2 status in 1994. The race was shortened to its present length in 1995 and was promoted to Grade 1 level in 2006.\"\n",
    "]\n",
    "\n",
    "def create_mem_test_asset(lines):\n",
    "    # repeats ith line i+1 times\n",
    "    test_lines = []\n",
    "    for x in range(len(lines)):\n",
    "        # print([lines[x]] * (x+1))\n",
    "        test_lines.append([lines[x]] * (x+1))\n",
    "    return [x for y in test_lines for x in y]\n",
    "\n",
    "package_and_upload(unique_lines, 'val.json', 's3://anuragik-dev/across_similar_test/val/')\n",
    "\n",
    "\n",
    "package_and_upload(create_mem_test_asset(unique_lines), 'train1.json', 's3://anuragik-dev/across_similar_test/train/')\n",
    "package_and_upload(unique_lines, 'train2.json', 's3://anuragik-dev/across_similar_test/train/')\n",
    "\n"
   ]
  },
  {
   "cell_type": "code",
   "execution_count": 9,
   "id": "da5f8028-d91e-4ef4-a176-6d46f1b4d178",
   "metadata": {},
   "outputs": [
    {
     "name": "stdout",
     "output_type": "stream",
     "text": [
      "[0, 1, 2, 3, 4, 5, 6, 7, 8, 9]\n",
      "[1, 2, 3, 4, 5, 6, 7, 8, 9]\n"
     ]
    }
   ],
   "source": [
    "# expected output should only return the 4th line since it is the only thing that is repeated 5 times.\n",
    "# or we should have a line wise count 1 -> 2, 2-> 3, ...5 -> 6\n",
    "\n",
    "# Outcome - has the right answers but also some other smallers strings, that maybe I can get rid of using thresholding?\n",
    "\n",
    "l = list(range(10))\n",
    "print(l)\n",
    "print(l[1:20])"
   ]
  },
  {
   "cell_type": "code",
   "execution_count": null,
   "id": "3baf65e1-c148-442b-a908-6ffdd84a8fb6",
   "metadata": {},
   "outputs": [],
   "source": []
  }
 ],
 "metadata": {
  "kernelspec": {
   "display_name": "Python [conda env:suffix]",
   "language": "python",
   "name": "conda-env-suffix-py"
  },
  "language_info": {
   "codemirror_mode": {
    "name": "ipython",
    "version": 3
   },
   "file_extension": ".py",
   "mimetype": "text/x-python",
   "name": "python",
   "nbconvert_exporter": "python",
   "pygments_lexer": "ipython3",
   "version": "3.7.13"
  }
 },
 "nbformat": 4,
 "nbformat_minor": 5
}
