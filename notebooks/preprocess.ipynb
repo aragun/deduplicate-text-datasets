{
 "cells": [
  {
   "cell_type": "code",
   "execution_count": 5,
   "id": "82fbbbeb-b368-417f-aa0f-3eb907861433",
   "metadata": {
    "tags": []
   },
   "outputs": [
    {
     "name": "stdout",
     "output_type": "stream",
     "text": [
      "170550 samples available in file\n",
      "toxic count 671 in total 170550 samples\n"
     ]
    }
   ],
   "source": [
    "import mmap\n",
    "import os\n",
    "\n",
    "# parse json file and dump just text to memory (look at what you can use from load_dataset.py\n",
    "def mmap_io(filename, n):\n",
    "    with open(filename, mode=\"r\") as file_obj:\n",
    "        with mmap.mmap(file_obj.fileno(), length=0, access=mmap.ACCESS_READ) as mmap_obj:\n",
    "            for text in mmap_obj.readline():\n",
    "                print(text)\n",
    "                if n < 0:\n",
    "                    break\n",
    "     \n",
    "\n",
    "filter_columns = [\"identity_attack\", \"insult\",\"obscene\",\"severe_toxicity\",\"sexual_explicit\",\"threat\",\"toxicity\"]\n",
    "\n",
    "\n",
    "filepath = '/home/anuragik/data/staging/package-10-04-22-v2/train1/part-00000-aaff0145-ac2b-4296-ab21-0655165ddd6d-c000.json'\n",
    "root_dir = os.path.dirname(filepath)\n",
    "filename = os.path.basename(filepath)\n",
    "\n",
    "# outfile = '/home/anuragik/data/st\n",
    "\n",
    "import json\n",
    "\n",
    "toxic_count = 0\n",
    "total = 0\n",
    "\n",
    "text_data = []\n",
    "\n",
    "fout = open(os.path.join(root_dir, filename+\".packed\"), \"wb\")\n",
    "\n",
    "import struct \n",
    "pre_sep = b\"\\xff\\xff\"\n",
    "post_sep = b\"\"\n",
    "\n",
    "UID = 0\n",
    "def sep():\n",
    "    global UID\n",
    "    UID += 1\n",
    "    return pre_sep+struct.pack(\"<I\", UID)+post_sep\n",
    "\n",
    "\n",
    "def write_line(line, fout):\n",
    "    next_line = sep() + line.encode()\n",
    "    # print(next_line)\n",
    "    fout.write(next_line)\n",
    "\n",
    "\n",
    "with open(filepath) as f:\n",
    "    for line in f:\n",
    "        # print(line)\n",
    "        total += 1\n",
    "        data = json.loads(line)\n",
    "        legit = True\n",
    "        for filt in filter_columns:\n",
    "            if filt in data and float(data[filt]) > 0.5:\n",
    "                # print(type(data), data.keys(), data)\n",
    "                toxic_count += 1\n",
    "            # break\n",
    "        if legit:\n",
    "            write_line(data['text'], fout)\n",
    "            text_data.append(data['text'])\n",
    "\n",
    "print(f'{len(text_data)} samples available in file')\n",
    "            \n",
    "print(f'toxic count {toxic_count} in total {total} samples')\n",
    "    \n",
    "# print(type(data))\n",
    "    \n",
    "# mmap_io(filename, 2)"
   ]
  },
  {
   "cell_type": "code",
   "execution_count": null,
   "id": "a653a4c3-9553-4575-9b23-c3d4398192b6",
   "metadata": {},
   "outputs": [],
   "source": []
  }
 ],
 "metadata": {
  "kernelspec": {
   "display_name": "Python [conda env:suffix]",
   "language": "python",
   "name": "conda-env-suffix-py"
  },
  "language_info": {
   "codemirror_mode": {
    "name": "ipython",
    "version": 3
   },
   "file_extension": ".py",
   "mimetype": "text/x-python",
   "name": "python",
   "nbconvert_exporter": "python",
   "pygments_lexer": "ipython3",
   "version": "3.7.13"
  }
 },
 "nbformat": 4,
 "nbformat_minor": 5
}
