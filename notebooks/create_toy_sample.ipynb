{
 "cells": [
  {
   "cell_type": "code",
   "execution_count": 34,
   "id": "7c1c5f17-c9e0-4cd6-8da5-d0e3a693d4e7",
   "metadata": {},
   "outputs": [
    {
     "name": "stdout",
     "output_type": "stream",
     "text": [
      "1000 sentences chosen!\n",
      "\u0000 \u0000 As collaborations go, the linking of Tim Booth, frontman with Manchester indie pioneers James, and renowned composer Angelo Badalamenti seems odd, but their work under the Booth And The Bad Angel mantle has resulted in one of the best albums of the year. \u0000 Booth was asked by a TV interviewer five years ago who he would most like to collaborate with, and he had no hesitation in naming the Italian-American composer. \"The record he did with Julee Cruise is my favourite. It was ahead of its time. It was sensual, ethereal and dangerous, a combination which no one had ever put together,\" says Booth. \u0000 So he suggested the collaboration idea to Mercury Records and was surprised at the response. \"They just said 'Fine, go and do it' and that was it,\" says Booth, who had expected at least some resistance. Dave Bates, head of A&R at the label, was the man with the open mind. \"Just after Wah Wah [James's last album], Tim came up with the idea of doing a solo project and asked me what I thought. I told him to go ahead, so he went and pursued this dream,\" says Bates. \"He needed to do something completely different in a different environment. It had to be a complete change and Angelo's non-rock, non-pop, non-alternative way of thinking was perfect.\" \u0000 However, Booth's approach was just one of many which Badalamenti had to field in the wake of his work with Cruise and, subsequently, on the Twin Peaks soundtrack. \"I worked with Anthrax on a track on the White Noise album and I did some stuff with Michael Jackson, but I turned down loads of stuff - Tori Amos, Leonard CohenŠ often because I just didn't have the time,\" says the 54 year-old composer.\n",
      "\u0000The Royal Oak (known locally as Sonny's) is the former farm house of the pub's namesake, Sonny White. It's situated on the dairy farm which is still operated by Sonny's son today. The pub prides itself on good-value, home-cooked food and they use lots of produce from local suppliers to create a range of superb dishes such as rump steak, vegetable lasagne and homemade chilli, to name but a few. A pub at the heart of its community, The Royal Oak employs staff that are local and offer a warm and friendly welcome to visitors. As you'd expect from a proper country pub, The Royal Oak offers a good selection of local real ales and ciders; in fact, beer and cider festivals happen throughout the year, celebrating some of Somerset's finest producers. The Royal Oak also boasts a skittle alley, which is in use most nights of the week. This is a unique pub with a lovely\n",
      "\u0000Traditional and enchanting Vernon Cottage in Old Shanklin village is one of the loveliest fresh food destinations on the Island, renowned for its fabulous homemade food - delicious meat, fish and vegetarian dishes using fresh local seasonal produce - as well as truly scrumptious homemade strawberry cream teas and 'probably the best homemade cake on the IOW', according to the local paper. The lovely homemade meals range from 'Old 'Shank'lin Pie' made with succulent roasted lamb shank, mouth-watering steak and ale pie, classic gourmet steak or Cajun chicken breast burgers, tender local steaks, hand beer-battered cod 'n' chips and hearty oven-roasted vegetable lasagne to the luxury Vernon crab and smoked fishcakes and the spectacular Vernon seafood platter (recommended by The Independent). Delightful light bites include jacket potatoes, superb sandwiches, homemade soup and the generous Vernon ploughman's. Or maybe you just prefer pudding, be it warm apple tarte tatin topped with New Forest ice cream, luxurious sticky toffee pudding or the outrageous 'Vernon Volcano Sundae'. The amazing homemade cakes, from traditional chocoholic to sumptuous carrot cake, are simply\n",
      "\u0001Educational excursion tours are planned so as to impart learning experience which takes place outside the school. \u0001Visit to historical, cultural and educational places are of great significance for the students. \u0001The students are then asked to prepare a detailed note on the visit and exchange the same with each other. \u0001Across the globe there is trend of summer camps for different types of activities. The proposal is to organize like skill development camps for adolescent girls during the summer vacations. \u0001During of the summer camp from 1st June to 15th June \u0001 The duration of the camp is 15 days and is for 6 hours a day. \u0001Adolescent training is given to the students with the help of NRHM or Health Department \u0001Information about bank transection, opening of accounts, type of accounts, cheques, drafts, educational loan, credit card, ATM and foreign exchanges, functioning of RBI and taxes etc. \u0001Information about functions of postal department, speed post, saving schemes, money order, postal life insurance and e-payment etc. \u0001Information about traffic rules, driving skills, traffic management and various road safety signs etc. \u0001Training on environment, energy and water conservation with the help of experts from the department of Forest and Public Health. \u0001Next session will be of skill development in the field of soft toy making rangoli making, mehndi, knitting fasting of button and Kaj making etc. \u0001At the end an exhibition has to be organize displaying different items prepared by the children. \u0001A cultural function is also held on the 15th day \u0001 Parents of students are cordially invited for the\n"
     ]
    }
   ],
   "source": [
    "import json\n",
    "import io\n",
    "\n",
    "tf = '/home/anuragik/data/foo/part-00000-63d3e00a-4613-4ece-a370-a79a3f8ef742-c000.json'\n",
    "\n",
    "cnt = 1\n",
    "\n",
    "# output -> 1000 strings, of size 200 each? \n",
    "\n",
    "def get_end_index(line, last_word):\n",
    "    words = line.split()\n",
    "    num_words = len(words)\n",
    "    last_word = min(num_words-1, last_word)\n",
    "    # print(f'num_words in this line {num_words}, last_word {last_word}')\n",
    "    # index of the num_word word\n",
    "    index = line.index(words[last_word])\n",
    "    return ' '.join(words[:last_word])\n",
    "\n",
    "sample = []\n",
    "\n",
    "with open(tf) as f:\n",
    "    while True:\n",
    "        line = json.loads(f.readline())\n",
    "        sampled_sentence = get_end_index(line['text'], 300)\n",
    "        sample.append(sampled_sentence)\n",
    "        # print(len(line['text'].split()), sampled_sentence)\n",
    "        cnt += 1\n",
    "        if cnt > 1000:\n",
    "            break\n",
    "\n",
    "print(f'{len(sample)} sentences chosen!')\n",
    "for x in sample[:4]:\n",
    "    print(x)\n",
    "\n",
    "    \n",
    "with open(\"mem_sample.json\", \"w\") as fp:\n",
    "    json.dump(sample, fp)"
   ]
  },
  {
   "cell_type": "code",
   "execution_count": 36,
   "id": "c006e179-31d0-4802-acb6-ae623749b3f1",
   "metadata": {},
   "outputs": [
    {
     "name": "stdout",
     "output_type": "stream",
     "text": [
      "1000 ['\\x00 \\x00 As collaborations go, the linking of Tim Booth, frontman with Manchester indie pioneers James, and renowned composer Angelo Badalamenti seems odd, but their work under the Booth And The Bad Angel mantle has resulted in one of the best albums of the year. \\x00 Booth was asked by a TV interviewer five years ago who he would most like to collaborate with, and he had no hesitation in naming the Italian-American composer. \"The record he did with Julee Cruise is my favourite. It was ahead of its time. It was sensual, ethereal and dangerous, a combination which no one had ever put together,\" says Booth. \\x00 So he suggested the collaboration idea to Mercury Records and was surprised at the response. \"They just said \\'Fine, go and do it\\' and that was it,\" says Booth, who had expected at least some resistance. Dave Bates, head of A&R at the label, was the man with the open mind. \"Just after Wah Wah [James\\'s last album], Tim came up with the idea of doing a solo project and asked me what I thought. I told him to go ahead, so he went and pursued this dream,\" says Bates. \"He needed to do something completely different in a different environment. It had to be a complete change and Angelo\\'s non-rock, non-pop, non-alternative way of thinking was perfect.\" \\x00 However, Booth\\'s approach was just one of many which Badalamenti had to field in the wake of his work with Cruise and, subsequently, on the Twin Peaks soundtrack. \"I worked with Anthrax on a track on the White Noise album and I did some stuff with Michael Jackson, but I turned down loads of stuff - Tori Amos, Leonard CohenŠ often because I just didn\\'t have the time,\" says the 54 year-old composer.', \"\\x00The Royal Oak (known locally as Sonny's) is the former farm house of the pub's namesake, Sonny White. It's situated on the dairy farm which is still operated by Sonny's son today. The pub prides itself on good-value, home-cooked food and they use lots of produce from local suppliers to create a range of superb dishes such as rump steak, vegetable lasagne and homemade chilli, to name but a few. A pub at the heart of its community, The Royal Oak employs staff that are local and offer a warm and friendly welcome to visitors. As you'd expect from a proper country pub, The Royal Oak offers a good selection of local real ales and ciders; in fact, beer and cider festivals happen throughout the year, celebrating some of Somerset's finest producers. The Royal Oak also boasts a skittle alley, which is in use most nights of the week. This is a unique pub with a lovely\", \"\\x00Traditional and enchanting Vernon Cottage in Old Shanklin village is one of the loveliest fresh food destinations on the Island, renowned for its fabulous homemade food - delicious meat, fish and vegetarian dishes using fresh local seasonal produce - as well as truly scrumptious homemade strawberry cream teas and 'probably the best homemade cake on the IOW', according to the local paper. The lovely homemade meals range from 'Old 'Shank'lin Pie' made with succulent roasted lamb shank, mouth-watering steak and ale pie, classic gourmet steak or Cajun chicken breast burgers, tender local steaks, hand beer-battered cod 'n' chips and hearty oven-roasted vegetable lasagne to the luxury Vernon crab and smoked fishcakes and the spectacular Vernon seafood platter (recommended by The Independent). Delightful light bites include jacket potatoes, superb sandwiches, homemade soup and the generous Vernon ploughman's. Or maybe you just prefer pudding, be it warm apple tarte tatin topped with New Forest ice cream, luxurious sticky toffee pudding or the outrageous 'Vernon Volcano Sundae'. The amazing homemade cakes, from traditional chocoholic to sumptuous carrot cake, are simply\", '\\x01Educational excursion tours are planned so as to impart learning experience which takes place outside the school. \\x01Visit to historical, cultural and educational places are of great significance for the students. \\x01The students are then asked to prepare a detailed note on the visit and exchange the same with each other. \\x01Across the globe there is trend of summer camps for different types of activities. The proposal is to organize like skill development camps for adolescent girls during the summer vacations. \\x01During of the summer camp from 1st June to 15th June \\x01 The duration of the camp is 15 days and is for 6 hours a day. \\x01Adolescent training is given to the students with the help of NRHM or Health Department \\x01Information about bank transection, opening of accounts, type of accounts, cheques, drafts, educational loan, credit card, ATM and foreign exchanges, functioning of RBI and taxes etc. \\x01Information about functions of postal department, speed post, saving schemes, money order, postal life insurance and e-payment etc. \\x01Information about traffic rules, driving skills, traffic management and various road safety signs etc. \\x01Training on environment, energy and water conservation with the help of experts from the department of Forest and Public Health. \\x01Next session will be of skill development in the field of soft toy making rangoli making, mehndi, knitting fasting of button and Kaj making etc. \\x01At the end an exhibition has to be organize displaying different items prepared by the children. \\x01A cultural function is also held on the 15th day \\x01 Parents of students are cordially invited for the']\n"
     ]
    }
   ],
   "source": [
    "with open(\"mem_sample.json\", \"r\") as fp:\n",
    "    sample = json.load(fp)\n",
    "\n",
    "print(len(sample), sample[:4])"
   ]
  },
  {
   "cell_type": "code",
   "execution_count": null,
   "id": "af9f33a5-9f49-4af6-a400-d88636ae455e",
   "metadata": {},
   "outputs": [],
   "source": []
  }
 ],
 "metadata": {
  "kernelspec": {
   "display_name": "Python [conda env:suffix]",
   "language": "python",
   "name": "conda-env-suffix-py"
  },
  "language_info": {
   "codemirror_mode": {
    "name": "ipython",
    "version": 3
   },
   "file_extension": ".py",
   "mimetype": "text/x-python",
   "name": "python",
   "nbconvert_exporter": "python",
   "pygments_lexer": "ipython3",
   "version": "3.7.13"
  }
 },
 "nbformat": 4,
 "nbformat_minor": 5
}
