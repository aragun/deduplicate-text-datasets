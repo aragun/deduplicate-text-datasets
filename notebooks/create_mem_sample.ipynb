{
 "cells": [
  {
   "cell_type": "code",
   "execution_count": 1,
   "id": "926eb227-9832-4319-8781-16ad0e73c723",
   "metadata": {},
   "outputs": [],
   "source": [
    "# Download train dataset\n",
    "\n",
    "\n",
    "\n"
   ]
  },
  {
   "cell_type": "code",
   "execution_count": 49,
   "id": "7785868e-58e9-4e60-9b59-ebaa61b0121c",
   "metadata": {},
   "outputs": [],
   "source": [
    "# Overall steps of the script\n",
    "# 1. Load dataset\n",
    "# python3 scripts/load_dataset.py --data_dir ~/tensorflow_datasets --save_dir data --name wiki40b --split test\n",
    "\n",
    "# 2. Make suffix array\n",
    "# python3 scripts/make_suffix_array.py data/wiki40b.test\n",
    "\n",
    "# 3. Count self-similar \n",
    "# cargo run self-similar --data-file data/wiki40b.test --length-threshold 100 --cache-dir /tmp/cache --num-threads 8\n",
    "\n",
    "# 4. Collect the duplicates\n",
    "# cargo run collect --data-file data/wiki40b.test --cache-dir /tmp/cache --length-threshold 100 > /tmp/wiki40b.test.remove.byterange\n",
    "\n",
    "# 5. Iterate over byteranges to create a sample (dict of text, number of occurences)\n",
    "\n",
    "\n",
    "# br = '/tmp/wiki40b.test.remove.byterange'\n",
    "# br = '/tmp/bedrock1.test3.remove.byterange'\n",
    "br = '/tmp/bedrock1.test_act.remove.byterange'\n",
    "\n",
    "branges = open(br, \"rb\").read()\n",
    "# print(branges[:20000])\n",
    "# print(branges)"
   ]
  },
  {
   "cell_type": "code",
   "execution_count": 71,
   "id": "4fc28f27-de2a-4e26-aa0a-f8dbf2ad8882",
   "metadata": {},
   "outputs": [
    {
     "name": "stderr",
     "output_type": "stream",
     "text": [
      "1310it [00:00, 268589.64it/s]"
     ]
    },
    {
     "name": "stdout",
     "output_type": "stream",
     "text": [
      "184\n"
     ]
    },
    {
     "name": "stderr",
     "output_type": "stream",
     "text": [
      "\n"
     ]
    }
   ],
   "source": [
    "# iterate over all byte ranges and create a dict of text, number of occurences\n",
    "# finish testing the APIs, scripts around them \n",
    "# get to an end2end script that generates a sample \n",
    "# test this script \n",
    "\n",
    "# filename = '/home/anuragik/data/staging/package-10-04-22-v2/train1/mem_test.json.packed'\n",
    "filename = '/home/anuragik/data/staging/package-10-04-22-v2/train1/part-00000-aaff0145-ac2b-4296-ab21-0655165ddd6d-c000.json.packed'\n",
    "\n",
    "data=open(filename,\"rb\").read()\n",
    "# open(path, encoding=\"utf8\", errors='ignore') \n",
    "length_threshold = 200\n",
    "\n",
    "# print(data)\n",
    "\n",
    "from collections import defaultdict \n",
    "\n",
    "def check_count_for_range(l, r):\n",
    "    # with open(filename, mode=\"r\", encoding=\"utf8\") as file_obj:\n",
    "    #     with mmap.mmap(file_obj.fileno(), length=0, access=mmap.ACCESS_READ) as mmap_obj:\n",
    "    #         data = mmap_obj.read()\n",
    "    #         print(data[l:r])\n",
    "    # print(f'count {data.count(data[l:r])}')\n",
    "    subsequences = []\n",
    "    # only print left and right most data[\n",
    "    try:\n",
    "        ans = data[l:r].decode()\n",
    "    except UnicodeDecodeError as ex:\n",
    "        # print(f\"{ex}\")\n",
    "        return None\n",
    "        \n",
    "    # print(f'\\nbyterange \\n{data[l:r]}')\n",
    "#     for x in range(l, r-length_threshold):\n",
    "#         substr = data[x:x+length_threshold]\n",
    "#         count = data.count(data[x:x+length_threshold])\n",
    "#         print(f'x:x+{length_threshold}: {x}, {x+length_threshold}')\n",
    "#         print(f'count {count}: {substr}')\n",
    "#         subsequences.append([count, substr])\n",
    "        \n",
    "    \n",
    "    return ans\n",
    "    # return data[l:r], data.count(data[l:r])\n",
    "\n",
    "def get_data(l, r):\n",
    "    return data[l:r]\n",
    "\n",
    "cnt = 1 \n",
    "enable = False\n",
    "\n",
    "from collections import defaultdict\n",
    "from tqdm import tqdm\n",
    "\n",
    "samples = defaultdict(int)\n",
    "\n",
    "with open(br, \"r\") as file:\n",
    "    for line in tqdm(file):\n",
    "        line = line.rstrip().split()\n",
    "        # print(line)\n",
    "        if line[0] == 'out':\n",
    "            enable = True\n",
    "        if len(line) == 2 and enable:\n",
    "            l, r = int(line[0]), int(line[1])\n",
    "            # bytes [l, l+100] are duplicated \n",
    "            # print(l, r, type(l))\n",
    "            # sample, count = \n",
    "            sample = check_count_for_range(l, r)\n",
    "            if sample is not None:\n",
    "                samples[sample] += 1\n",
    "            # print(f'l {l}, r {r}, count {count} \\n{get_data(l, r)} \\n')\n",
    "            # # if count > 3:\n",
    "            # print(f'count {count} sample {sample}')\n",
    "            # samples[count].append(sample)\n",
    "            # cnt += 1\n",
    "\n",
    "        # print(type(line), line, int.from_bytes(line, ), list(line))\n",
    "        # print(cnt)\n",
    "        # if cnt > 10:\n",
    "        #     break\n",
    "# \n",
    "# print(f'{cnt} samples found!')\n",
    "\n",
    "# for v in samples:\n",
    "#     print(v)\n",
    "\n",
    "import csv\n",
    "\n",
    "\n",
    "\n",
    "\n",
    "import random\n",
    "print(len(list(samples)))\n",
    "cnt = 0\n",
    "keys = random.sample(list(samples), min(len(list(samples)), 200))\n",
    "\n",
    "with open('mem_sample.csv', 'w', newline='') as csvfile:\n",
    "    fieldnames = ['frequency', 'sample']\n",
    "    writer = csv.DictWriter(csvfile, fieldnames=fieldnames)\n",
    "\n",
    "    writer.writeheader()\n",
    "    for k in keys:\n",
    "        writer.writerow({'frequency': samples[k], 'sample': k})\n",
    "\n",
    "# for k, v in samples.items():\n",
    "#     print(f'\\nfrequency {v}, \\nsample {k}\\n')\n",
    "    \n",
    "#     cnt += 1\n",
    "#     if cnt > 100:\n",
    "#         break"
   ]
  },
  {
   "cell_type": "code",
   "execution_count": 4,
   "id": "329fbb09-5d33-409c-97cf-fd4ea01f7b18",
   "metadata": {},
   "outputs": [
    {
     "ename": "NameError",
     "evalue": "name 'json' is not defined",
     "output_type": "error",
     "traceback": [
      "\u001b[0;31m---------------------------------------------------------------------------\u001b[0m",
      "\u001b[0;31mNameError\u001b[0m                                 Traceback (most recent call last)",
      "\u001b[0;32m/tmp/ipykernel_181716/4233368716.py\u001b[0m in \u001b[0;36m<module>\u001b[0;34m\u001b[0m\n\u001b[1;32m      1\u001b[0m \u001b[0;32mwith\u001b[0m \u001b[0mopen\u001b[0m\u001b[0;34m(\u001b[0m\u001b[0;34m\"mem_sample.json\"\u001b[0m\u001b[0;34m,\u001b[0m \u001b[0;34m\"w\"\u001b[0m\u001b[0;34m)\u001b[0m \u001b[0;32mas\u001b[0m \u001b[0mfp\u001b[0m\u001b[0;34m:\u001b[0m\u001b[0;34m\u001b[0m\u001b[0;34m\u001b[0m\u001b[0m\n\u001b[0;32m----> 2\u001b[0;31m     \u001b[0mjson\u001b[0m\u001b[0;34m.\u001b[0m\u001b[0mdump\u001b[0m\u001b[0;34m(\u001b[0m\u001b[0msample\u001b[0m\u001b[0;34m,\u001b[0m \u001b[0mfp\u001b[0m\u001b[0;34m)\u001b[0m\u001b[0;34m\u001b[0m\u001b[0;34m\u001b[0m\u001b[0m\n\u001b[0m",
      "\u001b[0;31mNameError\u001b[0m: name 'json' is not defined"
     ]
    }
   ],
   "source": [
    "with open(\"mem_sample.json\", \"w\") as fp:\n",
    "    json.dump(sample, fp)"
   ]
  },
  {
   "cell_type": "code",
   "execution_count": null,
   "id": "81626acc-a2b1-4d62-8f5d-2a8757239e60",
   "metadata": {},
   "outputs": [],
   "source": [
    "check_count_for_range(42507, 42715)"
   ]
  },
  {
   "cell_type": "code",
   "execution_count": null,
   "id": "000a6024-0e60-44f0-94f6-f3f7e6555ce1",
   "metadata": {},
   "outputs": [],
   "source": []
  }
 ],
 "metadata": {
  "kernelspec": {
   "display_name": "Python [conda env:suffix]",
   "language": "python",
   "name": "conda-env-suffix-py"
  },
  "language_info": {
   "codemirror_mode": {
    "name": "ipython",
    "version": 3
   },
   "file_extension": ".py",
   "mimetype": "text/x-python",
   "name": "python",
   "nbconvert_exporter": "python",
   "pygments_lexer": "ipython3",
   "version": "3.7.13"
  }
 },
 "nbformat": 4,
 "nbformat_minor": 5
}
